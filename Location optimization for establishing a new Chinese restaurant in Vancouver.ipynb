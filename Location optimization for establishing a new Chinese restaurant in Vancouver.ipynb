{
 "cells": [
  {
   "cell_type": "markdown",
   "metadata": {},
   "source": [
    "## Location optimization for establishing a new Chinese restaurant in Vancouver"
   ]
  },
  {
   "cell_type": "markdown",
   "metadata": {},
   "source": [
    "### Introduction :\n",
    "Vancouver city is one of the big cities in Canada which located in the west. Vancouver CSD (Census Subdivision), Vancouver city consists of 22 neighborhoods. Besides, Vancouver city is a multicultural city. It is formed by a mix of people who are different races, having different religions, ethnicities, and cultural."
   ]
  },
  {
   "cell_type": "markdown",
   "metadata": {},
   "source": [
    "### Business problem :\n",
    "There are 167180 Chinese people staying in Vancouver city. Thus, this makes establishing a Chinese restaurant a good choice of investment. As a invester, it is always important to find a optimal place to establish a Chinese restaurant. In this case, the neighborhood of Vancouver CSD need to be scanned through to identify establishing a Chinese restaurant in which area will higher business opportunity and lesser competition. This project is targeted to invester who would like to establish a new Chinese restaurant in Vancouver CSD."
   ]
  },
  {
   "cell_type": "markdown",
   "metadata": {},
   "source": [
    "### Data :\n",
    "In order to establish a Chinese restaurant in Vancouver CSD, we will be scrapping and getting the data from the following :\n",
    "\n",
    "1) The list of Vancouver CSD neighborhoods' name and its postal codes :-\n",
    "\n",
    "https://en.wikipedia.org/wiki/List_of_postal_codes_of_Canada:_V\n",
    "\n",
    "Example : V6L for Arbutus Ridge neighborhood\n",
    "\n",
    "2) City of Vancouver census local area profiles 2016 :- \n",
    "\n",
    "https://opendata.vancouver.ca/explore/dataset/census-local-area-profiles-2016/information/\n",
    "\n",
    "Example : There are 3045 Chinese people staying in Arbutus Ridge neighborhood.\n",
    "\n",
    "3) Latitude and longitude of neighborhood in Vancouver city can be gotten through usage of python library Geocoder. Refer to the following link for more information :-\n",
    "\n",
    "https://geocoder.readthedocs.io/\n",
    "\n",
    "4) Foursquare API to explore the famous venues especially Chinese restaurant in the neighborhood of Vancouver CSD. One will need to register her developer account from the following URL in order to access to Foursquare API.\n",
    "\n",
    "https://developer.foursquare.com/\n",
    "\n",
    "Example : To explore Arbutus Ridge neighborhood and identify the number of Chinese restaurant."
   ]
  },
  {
   "cell_type": "code",
   "execution_count": null,
   "metadata": {},
   "outputs": [],
   "source": []
  }
 ],
 "metadata": {
  "kernelspec": {
   "display_name": "Python 3",
   "language": "python",
   "name": "python3"
  },
  "language_info": {
   "codemirror_mode": {
    "name": "ipython",
    "version": 3
   },
   "file_extension": ".py",
   "mimetype": "text/x-python",
   "name": "python",
   "nbconvert_exporter": "python",
   "pygments_lexer": "ipython3",
   "version": "3.8.3"
  }
 },
 "nbformat": 4,
 "nbformat_minor": 4
}
